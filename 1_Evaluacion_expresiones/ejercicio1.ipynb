{
 "cells": [
  {
   "cell_type": "markdown",
   "id": "cae9204b",
   "metadata": {},
   "source": [
    "# Ejemplo\n",
    "#### Paso 1: Primero se ejecuta la potencia\n",
    "(2 ** 2) \n",
    "#### Paso 2: Se multiplica  el resultado por 4\n",
    "*4\n",
    "#### Paso 3: Se suma por ultimo +3\n",
    "+3\n",
    "### Resultado \n",
    "19\n",
    "\n"
   ]
  },
  {
   "cell_type": "code",
   "execution_count": 11,
   "id": "77e191a6",
   "metadata": {},
   "outputs": [
    {
     "name": "stdout",
     "output_type": "stream",
     "text": [
      "19\n"
     ]
    }
   ],
   "source": [
    "resultado = 3 + 4 *2 ** 2\n",
    "print(resultado)"
   ]
  },
  {
   "cell_type": "markdown",
   "id": "9c247572",
   "metadata": {},
   "source": [
    "# Expresion 1\n",
    "#### Paso 1: Se ejecuta lo que esta dentro de los parentesis\n",
    "(3 + 3)\n",
    "#### Paso 2: Por ultimo se multiplca por 4\n",
    "*4\n",
    "#### Resultado\n",
    "20"
   ]
  },
  {
   "cell_type": "code",
   "execution_count": 12,
   "id": "e9402f96",
   "metadata": {},
   "outputs": [
    {
     "name": "stdout",
     "output_type": "stream",
     "text": [
      "20\n"
     ]
    }
   ],
   "source": [
    "expr1 = (3 + 2) * 4 \n",
    "print(expr1)"
   ]
  },
  {
   "cell_type": "markdown",
   "id": "8bd13f60",
   "metadata": {},
   "source": [
    "# Expresion 2\n",
    "#### Paso1: SE ejecuta la potencia 3^2\n",
    "(3 ** 2)\n",
    "#### Paso2: Se ejecuta la multiplicacion \n",
    "*2 \n",
    "### Resultado\n",
    "18"
   ]
  },
  {
   "cell_type": "code",
   "execution_count": 13,
   "id": "58b3f2ac",
   "metadata": {},
   "outputs": [
    {
     "name": "stdout",
     "output_type": "stream",
     "text": [
      "18\n"
     ]
    }
   ],
   "source": [
    "expr2 = 2 * 3 ** 2 \n",
    "print(expr2)"
   ]
  }
 ],
 "metadata": {
  "kernelspec": {
   "display_name": "Python 3",
   "language": "python",
   "name": "python3"
  },
  "language_info": {
   "codemirror_mode": {
    "name": "ipython",
    "version": 3
   },
   "file_extension": ".py",
   "mimetype": "text/x-python",
   "name": "python",
   "nbconvert_exporter": "python",
   "pygments_lexer": "ipython3",
   "version": "3.13.2"
  }
 },
 "nbformat": 4,
 "nbformat_minor": 5
}
