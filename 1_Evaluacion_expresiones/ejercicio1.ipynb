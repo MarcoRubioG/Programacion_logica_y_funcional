{
 "cells": [
  {
   "cell_type": "markdown",
   "id": "cae9204b",
   "metadata": {},
   "source": [
    "# Ejemplo\n",
    "#### Paso 1: Primero se ejecuta la potencia\n",
    "(2 ** 2) \n",
    "#### Paso 2: Se multiplica  el resultado por 4\n",
    "*4\n",
    "#### Paso 3: Se suma por ultimo +3\n",
    "+3\n",
    "### Resultado \n",
    "19\n",
    "\n"
   ]
  },
  {
   "cell_type": "code",
   "execution_count": 17,
   "id": "77e191a6",
   "metadata": {},
   "outputs": [
    {
     "name": "stdout",
     "output_type": "stream",
     "text": [
      "19\n"
     ]
    }
   ],
   "source": [
    "resultado = 3 + 4 *2 ** 2\n",
    "print(resultado)"
   ]
  },
  {
   "cell_type": "markdown",
   "id": "9c247572",
   "metadata": {},
   "source": [
    "# Expresion 1\n",
    "#### Paso 1: Se ejecuta lo que esta dentro de los parentesis\n",
    "(3 + 3)\n",
    "#### Paso 2: Por ultimo se multiplca por 4\n",
    "*4\n",
    "#### Resultado\n",
    "20"
   ]
  },
  {
   "cell_type": "code",
   "execution_count": 18,
   "id": "e9402f96",
   "metadata": {},
   "outputs": [
    {
     "name": "stdout",
     "output_type": "stream",
     "text": [
      "20\n"
     ]
    }
   ],
   "source": [
    "Complete1 = (3 + 2) * 4 \n",
    "print(Complete1)"
   ]
  },
  {
   "cell_type": "markdown",
   "id": "8bd13f60",
   "metadata": {},
   "source": [
    "# Expresion 2\n",
    "#### Paso1: SE ejecuta la potencia 3^2\n",
    "(3 ** 2)\n",
    "#### Paso2: Se ejecuta la multiplicacion \n",
    "*2 \n",
    "### Resultado\n",
    "18"
   ]
  },
  {
   "cell_type": "code",
   "execution_count": 19,
   "id": "58b3f2ac",
   "metadata": {},
   "outputs": [
    {
     "name": "stdout",
     "output_type": "stream",
     "text": [
      "18\n"
     ]
    }
   ],
   "source": [
    "Complete2 = 2 * 3 ** 2 \n",
    "print(Complete2)"
   ]
  },
  {
   "cell_type": "markdown",
   "id": "e3b7cce7",
   "metadata": {},
   "source": [
    "# Expresion 3\n",
    "#### Paso 1: Hace una divison entera\n",
    "10 // 3\n",
    "#### Paso 2: Se suma el +2\n",
    "+2\n",
    "#### Resultado\n",
    "5"
   ]
  },
  {
   "cell_type": "code",
   "execution_count": 20,
   "id": "a925bc14",
   "metadata": {},
   "outputs": [
    {
     "name": "stdout",
     "output_type": "stream",
     "text": [
      "5\n",
      "3\n",
      "5\n"
     ]
    }
   ],
   "source": [
    "Completo3 = 10 // 3 + 2\n",
    "print(Completo3)\n",
    "expr3_1= 10 // 3 \n",
    "print(expr3_1)\n",
    "expr3_2 = expr3_1 + 2\n",
    "print(expr3_2)"
   ]
  },
  {
   "cell_type": "markdown",
   "id": "fbf45f12",
   "metadata": {},
   "source": [
    "# Expresion 4\n",
    "#### Paso 1: Sacar porcentaje 17%5 ,(el cual redondea al entero mas cercano)\n",
    "17 % 5\n",
    "#### Paso 2: Multiplicar resultado *2\n",
    "*2\n",
    "#### Resultado\n",
    "4"
   ]
  },
  {
   "cell_type": "code",
   "execution_count": 21,
   "id": "5fd56228",
   "metadata": {},
   "outputs": [
    {
     "name": "stdout",
     "output_type": "stream",
     "text": [
      "4\n",
      "2\n",
      "4\n"
     ]
    }
   ],
   "source": [
    "Complete4 = 17 % 5 * 2\n",
    "print(Complete4) \n",
    "expr4_1 =17 % 5\n",
    "print(expr4_1)\n",
    "expr4_2= expr4_1 *2\n",
    "print(expr4_2)"
   ]
  },
  {
   "cell_type": "markdown",
   "id": "23b33fb6",
   "metadata": {},
   "source": [
    "# Expresion 5\n",
    "#### Paso 1: Sacar la potencia de -2^2\n",
    "-2^2\n",
    "#### Resultado \n",
    "-4"
   ]
  },
  {
   "cell_type": "code",
   "execution_count": 22,
   "id": "f0e9cfae",
   "metadata": {},
   "outputs": [
    {
     "name": "stdout",
     "output_type": "stream",
     "text": [
      "-4\n",
      "-4\n"
     ]
    }
   ],
   "source": [
    "Complete5 = -2 ** 2\n",
    "print(Complete5)\n",
    "expr4_1=-2 ** 2\n",
    "print(expr4_1)"
   ]
  },
  {
   "cell_type": "markdown",
   "id": "5b868418",
   "metadata": {},
   "source": [
    "# Expresion 6\n",
    "#### Paso 1 \n",
    "##### Primero resolvemos la potencia\n",
    "(2**2)\n",
    "#### Paso 2 \n",
    "##### El resultado lo multiplicamos por 4 \n",
    "*4\n",
    "#### Paso 3\n",
    "##### Divides entero con //3\n",
    "//3\n",
    "#### Resultado \n",
    "8"
   ]
  },
  {
   "cell_type": "code",
   "execution_count": 23,
   "id": "38851fee",
   "metadata": {},
   "outputs": [
    {
     "name": "stdout",
     "output_type": "stream",
     "text": [
      "8\n",
      "4\n",
      "16\n",
      "5\n",
      "8\n"
     ]
    }
   ],
   "source": [
    "Complete6 = 3 + 4 * 2 ** 2 // 3\n",
    "print(Complete6)\n",
    "expr5_1 = 2 ** 2\n",
    "print(expr5_1)\n",
    "expr5_2 = expr5_1 *4\n",
    "print(expr5_2)\n",
    "expr5_3 = expr5_2 // 3\n",
    "print(expr5_3)\n",
    "expr5_4 =expr5_3 +3\n",
    "print(expr5_4)\n"
   ]
  },
  {
   "cell_type": "markdown",
   "id": "051a7989",
   "metadata": {},
   "source": [
    "# Expresion 7\n",
    "#### Paso 1\n",
    "##### El programa primero hace esto primero( 3 < 4)\n",
    "El cual da TRUE\n",
    "#### Paso 2 \n",
    "##### El programa ahora analiza lo segundo (4 < 5)\n",
    "Tambien da TRUE\n",
    "#### Resultado \n",
    "Por lo tanto la expresion da True"
   ]
  },
  {
   "cell_type": "code",
   "execution_count": 24,
   "id": "11d84f76",
   "metadata": {},
   "outputs": [
    {
     "name": "stdout",
     "output_type": "stream",
     "text": [
      "True\n"
     ]
    }
   ],
   "source": [
    "Completo7 = 3 < 4 < 5\n",
    "print(Completo7)"
   ]
  },
  {
   "cell_type": "markdown",
   "id": "03c6782a",
   "metadata": {},
   "source": [
    "# Expresion 8\n",
    "#### Paso 1\n",
    "##### Primero se compila la expresion (3 >2)\n",
    "#### Paso 2\n",
    "##### Luego se compila la expresion (5 < 10 )\n",
    "#### Resultado\n",
    "##### Al aparecer el or false se refiere a que si una condicion no se cumple dara false,al cumplirse las dos da Como resultado True"
   ]
  },
  {
   "cell_type": "code",
   "execution_count": 25,
   "id": "fe8a4db4",
   "metadata": {},
   "outputs": [
    {
     "name": "stdout",
     "output_type": "stream",
     "text": [
      "True\n",
      "True\n",
      "True\n"
     ]
    }
   ],
   "source": [
    "Completo8 = (3 > 2) and (5 < 10) or False\n",
    "print(Completo8)\n",
    "expr8_1 =(3 >2 )\n",
    "print(expr8_1)\n",
    "expr8_2 = expr8_1 and (5 <10 )\n",
    "print(expr8_2)"
   ]
  },
  {
   "cell_type": "markdown",
   "id": "fdad77c1",
   "metadata": {},
   "source": [
    "# Expresion 9\n",
    "#### Paso 1\n",
    "Se resuelve 3 + 1\n",
    "#### Paso 2\n",
    "ahora queda 5 & 4\n",
    "el cual convertimos los numeros en binario y solo\n",
    "devolvemos 1 si los dos tienen 1\n",
    "101 (5 en binario)\n",
    "100 (4 en binario)\n",
    "da resultado 100\n",
    "por lo tanto la expresion da 4 al final"
   ]
  },
  {
   "cell_type": "code",
   "execution_count": 26,
   "id": "9216cb2b",
   "metadata": {},
   "outputs": [
    {
     "name": "stdout",
     "output_type": "stream",
     "text": [
      "4\n"
     ]
    }
   ],
   "source": [
    "Completo9 = 5 & 3 +1\n",
    "print(Completo9)"
   ]
  },
  {
   "cell_type": "markdown",
   "id": "b6756a56",
   "metadata": {},
   "source": [
    "# Expresion 10\n",
    "primero se resulven los parentesis los cuales (2 + 3 ) da 5 y (5 & 3 an not false )primero se realiza porcentaje y da 2 y se pregunta 2 no es falso el cual es correcto mandara true\n",
    "#### ahora \n",
    "ahora se elevera a la potencia 4 ** 2 Dando 16 ahora se multiplica lo primero 5 * 15 da 80\n",
    "por ultimo quedaria 80 // true\n",
    "el cual true se vuelve 1 dando 80 // 1 \n",
    "EL Resultado da 80"
   ]
  },
  {
   "cell_type": "code",
   "execution_count": 34,
   "id": "feafc8a2",
   "metadata": {},
   "outputs": [
    {
     "name": "stdout",
     "output_type": "stream",
     "text": [
      "80\n",
      "True\n",
      "5\n",
      "80\n",
      "80\n"
     ]
    }
   ],
   "source": [
    "Completo10 = (2 + 3) * 4 **2 // (5 % 3 and not False)\n",
    "print(Completo10)\n",
    "expr10_1 = (5 % 3 and not False)\n",
    "print(expr10_1)\n",
    "expr10_2 = (2 + 3)\n",
    "print(expr10_2)\n",
    "expr10_3 = 4 **2\n",
    "expr10_4 = expr10_2 * expr10_3\n",
    "print(expr10_4)\n",
    "expr10_5 = expr10_4 // expr10_1\n",
    "print(expr10_5)"
   ]
  },
  {
   "cell_type": "markdown",
   "id": "4ff56d01",
   "metadata": {},
   "source": [
    "# Expresion 11\n",
    "Primer paso es resolver (65 & 66 )\n",
    "lo cual da 64 \n",
    "El segundo paso ese (65 ^ 64  ) el cual da 3 en decimal\n",
    "por que es una puerta logica XOR \n",
    "Ahora se evalua 3 == 0 EL Cual es false \n",
    "y ahota es not false por lo tanto da true\n",
    "ahora 64 > 70  el cual da false\n",
    "quedaria por ultimo\n",
    "False = True\n",
    "dando como resultado False"
   ]
  },
  {
   "cell_type": "code",
   "execution_count": 36,
   "id": "30c94100",
   "metadata": {},
   "outputs": [
    {
     "name": "stdout",
     "output_type": "stream",
     "text": [
      "False\n"
     ]
    }
   ],
   "source": [
    "Completo11 =((65 & 66) > 70) and not (65 ^ 66 )== 0\n",
    "print(Completo11)"
   ]
  }
 ],
 "metadata": {
  "kernelspec": {
   "display_name": "Python 3",
   "language": "python",
   "name": "python3"
  },
  "language_info": {
   "codemirror_mode": {
    "name": "ipython",
    "version": 3
   },
   "file_extension": ".py",
   "mimetype": "text/x-python",
   "name": "python",
   "nbconvert_exporter": "python",
   "pygments_lexer": "ipython3",
   "version": "3.13.2"
  }
 },
 "nbformat": 4,
 "nbformat_minor": 5
}
