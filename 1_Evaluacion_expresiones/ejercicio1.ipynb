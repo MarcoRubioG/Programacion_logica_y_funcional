{
 "cells": [
  {
   "cell_type": "markdown",
   "id": "cae9204b",
   "metadata": {},
   "source": [
    "# Ejemplo\n",
    "#### Paso 1: Primero se ejecuta la potencia\n",
    "(2 ** 2) \n",
    "#### Paso 2: Se multiplica  el resultado por 4\n",
    "*4\n",
    "#### Paso 3: Se suma por ultimo +3\n",
    "+3\n",
    "### Resultado \n",
    "19\n",
    "\n"
   ]
  },
  {
   "cell_type": "code",
   "execution_count": 23,
   "id": "77e191a6",
   "metadata": {},
   "outputs": [
    {
     "name": "stdout",
     "output_type": "stream",
     "text": [
      "19\n"
     ]
    }
   ],
   "source": [
    "resultado = 3 + 4 *2 ** 2\n",
    "print(resultado)"
   ]
  },
  {
   "cell_type": "markdown",
   "id": "9c247572",
   "metadata": {},
   "source": [
    "# Expresion 1\n",
    "#### Paso 1: Se ejecuta lo que esta dentro de los parentesis\n",
    "(3 + 3)\n",
    "#### Paso 2: Por ultimo se multiplca por 4\n",
    "*4\n",
    "#### Resultado\n",
    "20"
   ]
  },
  {
   "cell_type": "code",
   "execution_count": 24,
   "id": "e9402f96",
   "metadata": {},
   "outputs": [
    {
     "name": "stdout",
     "output_type": "stream",
     "text": [
      "20\n"
     ]
    }
   ],
   "source": [
    "Complete1 = (3 + 2) * 4 \n",
    "print(Complete1)"
   ]
  },
  {
   "cell_type": "markdown",
   "id": "8bd13f60",
   "metadata": {},
   "source": [
    "# Expresion 2\n",
    "#### Paso1: SE ejecuta la potencia 3^2\n",
    "(3 ** 2)\n",
    "#### Paso2: Se ejecuta la multiplicacion \n",
    "*2 \n",
    "### Resultado\n",
    "18"
   ]
  },
  {
   "cell_type": "code",
   "execution_count": 25,
   "id": "58b3f2ac",
   "metadata": {},
   "outputs": [
    {
     "name": "stdout",
     "output_type": "stream",
     "text": [
      "18\n"
     ]
    }
   ],
   "source": [
    "Complete2 = 2 * 3 ** 2 \n",
    "print(Complete2)"
   ]
  },
  {
   "cell_type": "markdown",
   "id": "e3b7cce7",
   "metadata": {},
   "source": [
    "# Expresion 3\n",
    "#### Paso 1: Hace una divison entera\n",
    "10 // 3\n",
    "#### Paso 2: Se suma el +2\n",
    "+2\n",
    "#### Resultado\n",
    "5"
   ]
  },
  {
   "cell_type": "code",
   "execution_count": 26,
   "id": "a925bc14",
   "metadata": {},
   "outputs": [
    {
     "name": "stdout",
     "output_type": "stream",
     "text": [
      "5\n",
      "3\n",
      "5\n"
     ]
    }
   ],
   "source": [
    "Completo3 = 10 // 3 + 2\n",
    "print(Completo3)\n",
    "expr3_1= 10 // 3 \n",
    "print(expr3_1)\n",
    "expr3_2 = expr3_1 + 2\n",
    "print(expr3_2)"
   ]
  },
  {
   "cell_type": "markdown",
   "id": "fbf45f12",
   "metadata": {},
   "source": [
    "# Expresion 4\n",
    "#### Paso 1: Sacar porcentaje 17%5 ,(el cual redondea al entero mas cercano)\n",
    "17 % 5\n",
    "#### Paso 2: Multiplicar resultado *2\n",
    "*2\n",
    "#### Resultado\n",
    "4"
   ]
  },
  {
   "cell_type": "code",
   "execution_count": 27,
   "id": "5fd56228",
   "metadata": {},
   "outputs": [
    {
     "name": "stdout",
     "output_type": "stream",
     "text": [
      "4\n",
      "2\n",
      "4\n"
     ]
    }
   ],
   "source": [
    "Complete4 = 17 % 5 * 2\n",
    "print(Complete4) \n",
    "expr4_1 =17 % 5\n",
    "print(expr4_1)\n",
    "expr4_2= expr4_1 *2\n",
    "print(expr4_2)"
   ]
  },
  {
   "cell_type": "markdown",
   "id": "23b33fb6",
   "metadata": {},
   "source": [
    "# Expresion 5\n",
    "#### Paso 1: Sacar la potencia de -2^2\n",
    "-2^2\n",
    "#### Resultado \n",
    "-4"
   ]
  },
  {
   "cell_type": "code",
   "execution_count": 30,
   "id": "f0e9cfae",
   "metadata": {},
   "outputs": [
    {
     "name": "stdout",
     "output_type": "stream",
     "text": [
      "-4\n",
      "-4\n"
     ]
    }
   ],
   "source": [
    "Complete5 = -2 ** 2\n",
    "print(Complete5)\n",
    "expr4_1=-2 ** 2\n",
    "print(expr4_1)"
   ]
  },
  {
   "cell_type": "markdown",
   "id": "5b868418",
   "metadata": {},
   "source": [
    "# Expresion 6\n",
    "#### Paso 1 \n",
    "##### Primero resolvemos la potencia\n",
    "(2**2)\n",
    "#### Paso 2 \n",
    "##### El resultado lo multiplicamos por 4 \n",
    "*4\n",
    "#### Paso 3\n",
    "##### Divides entero con //3\n",
    "//3\n",
    "#### Resultado \n",
    "8"
   ]
  },
  {
   "cell_type": "code",
   "execution_count": 1,
   "id": "38851fee",
   "metadata": {},
   "outputs": [
    {
     "name": "stdout",
     "output_type": "stream",
     "text": [
      "8\n",
      "4\n",
      "16\n",
      "5\n",
      "8\n"
     ]
    }
   ],
   "source": [
    "Complete6 = 3 + 4 * 2 ** 2 // 3\n",
    "print(Complete6)\n",
    "expr5_1 = 2 ** 2\n",
    "print(expr5_1)\n",
    "expr5_2 = expr5_1 *4\n",
    "print(expr5_2)\n",
    "expr5_3 = expr5_2 // 3\n",
    "print(expr5_3)\n",
    "expr5_4 =expr5_3 +3\n",
    "print(expr5_4)\n"
   ]
  },
  {
   "cell_type": "markdown",
   "id": "051a7989",
   "metadata": {},
   "source": [
    "# Expresion 7\n",
    "#### Paso 1\n",
    "##### El programa primero hace esto primero( 3 < 4)\n",
    "El cual da TRUE\n",
    "#### Paso 2 \n",
    "##### El programa ahora analiza lo segundo (4 < 5)\n",
    "Tambien da TRUE\n",
    "#### Resultado \n",
    "Por lo tanto la expresion da True"
   ]
  },
  {
   "cell_type": "code",
   "execution_count": 2,
   "id": "11d84f76",
   "metadata": {},
   "outputs": [
    {
     "name": "stdout",
     "output_type": "stream",
     "text": [
      "True\n"
     ]
    }
   ],
   "source": [
    "Completo7 = 3 < 4 < 5\n",
    "print(Completo7)"
   ]
  }
 ],
 "metadata": {
  "kernelspec": {
   "display_name": "Python 3",
   "language": "python",
   "name": "python3"
  },
  "language_info": {
   "codemirror_mode": {
    "name": "ipython",
    "version": 3
   },
   "file_extension": ".py",
   "mimetype": "text/x-python",
   "name": "python",
   "nbconvert_exporter": "python",
   "pygments_lexer": "ipython3",
   "version": "3.13.2"
  }
 },
 "nbformat": 4,
 "nbformat_minor": 5
}
